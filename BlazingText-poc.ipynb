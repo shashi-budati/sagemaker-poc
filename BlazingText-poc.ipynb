{
 "cells": [
  {
   "cell_type": "code",
   "execution_count": null,
   "id": "4dda660d-b265-40ac-936d-64e882fde2da",
   "metadata": {},
   "outputs": [],
   "source": [
    "# TODO Terraform script for the sagemaker endpoint!"
   ]
  },
  {
   "cell_type": "code",
   "execution_count": null,
   "id": "c671dde9-e243-4383-9949-d828cad40356",
   "metadata": {},
   "outputs": [],
   "source": [
    "import boto3\n",
    "import sagemaker\n",
    "print(sagemaker.__version__)"
   ]
  },
  {
   "cell_type": "code",
   "execution_count": null,
   "id": "15bb9faf-cfe5-42be-bf76-4ddcee5d4e83",
   "metadata": {},
   "outputs": [],
   "source": [
    "# TODO Upload relevant fastText model to S3, not the Gensim model!\n",
    "# TODO Do not publicly expose the S3 bucket!"
   ]
  },
  {
   "cell_type": "code",
   "execution_count": null,
   "id": "7577690d-714d-4e10-9f5d-58a76afbd9be",
   "metadata": {},
   "outputs": [],
   "source": [
    "# TODO Domain creation?"
   ]
  },
  {
   "cell_type": "code",
   "execution_count": null,
   "id": "37b3945e-b016-4763-9bf4-2747644d254c",
   "metadata": {},
   "outputs": [],
   "source": [
    "# session = sagemaker.Session()\n",
    "region = boto3.Session().region_name  # 'ap-south-1'\n",
    "model = sagemaker.model.Model(\n",
    "    image_uri=sagemaker.image_uris.retrieve(region=region, framework='blazingtext', version='latest'),\n",
    "    # sagemaker.amazon.amazon_estimator.get_image_uri(region, \"blazingtext\", \"latest\")\n",
    "    # TODO IAM role to download the model\n",
    "    model_data='s3://setu-data-insights-dev-models/wiki-news-300d-1M-subword.tar.gz',\n",
    "    name='setu-data-insights-dev-blazingtext-model',\n",
    "    # TODO Create endpoints within the VPC\n",
    ")\n",
    "model.create(\n",
    "    tags=[{'Key': 'Project', 'Value': 'setu-data-insights-dev'}, {'Key': 'Environment', 'Value': 'dev'},\n",
    "          {'Key': 'pod', 'Value': 'dg'}, {'Key': 'product', 'Value': 'data-insights'}, ],\n",
    ")"
   ]
  },
  {
   "cell_type": "code",
   "execution_count": null,
   "id": "d8bf260e-c26d-47bc-a7c5-a5d5f7f0342c",
   "metadata": {},
   "outputs": [],
   "source": [
    "# TODO setu-data-insights-endpoint-configuration?\n",
    "endpoint = model.deploy(\n",
    "    initial_instance_count=1,\n",
    "    instance_type='ml.c5.xlarge',\n",
    "    # serializer=JSONSerializer(),\n",
    "    endpoint_name='setu-data-insights-dev-blazingtext-endpoint',\n",
    "    tags=[{'Key': 'Project', 'Value': 'setu-data-insights-dev'}, {'Key': 'Environment', 'Value': 'dev'},\n",
    "          {'Key': 'pod', 'Value': 'dg'}, {'Key': 'product', 'Value': 'data-insights'}, ],\n",
    "    # TODO data_capture_config=None,\n",
    "    # TODO async/serverless_inference_config=None,\n",
    ")"
   ]
  },
  {
   "cell_type": "code",
   "execution_count": null,
   "id": "2df82db6-f2a8-475c-ad29-7fec77a8e92b",
   "metadata": {},
   "outputs": [],
   "source": [
    "# TODO How to get URL https://runtime.sagemaker.ap-south-1.amazonaws.com/endpoints/setu-data-insights-dev-endpoint/invocations\n",
    "# TODO How to get cloudwatch log-group /aws/sagemaker/endpoints/setu-data-insights-dev-endpoint"
   ]
  },
  {
   "cell_type": "code",
   "execution_count": null,
   "id": "88f17111-1293-4bda-be87-65bd55c8b7ae",
   "metadata": {},
   "outputs": [],
   "source": [
    "predictor = endpoint.predictor()\n",
    "dog_vector = predictor.predict(data={'text': 'dog'})\n",
    "print(dog_vector)"
   ]
  }
 ],
 "metadata": {
  "kernelspec": {
   "display_name": "conda_python3",
   "language": "python",
   "name": "conda_python3"
  },
  "language_info": {
   "codemirror_mode": {
    "name": "ipython",
    "version": 3
   },
   "file_extension": ".py",
   "mimetype": "text/x-python",
   "name": "python",
   "nbconvert_exporter": "python",
   "pygments_lexer": "ipython3",
   "version": "3.10.12"
  }
 },
 "nbformat": 4,
 "nbformat_minor": 5
}
